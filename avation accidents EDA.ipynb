{
 "cells": [
  {
   "cell_type": "code",
   "execution_count": null,
   "id": "af7770b2",
   "metadata": {},
   "outputs": [],
   "source": [
    "import pandas as pd\n",
    "import numpy as np\n",
    "\n",
    "#MATPLOT :-)\n",
    "import matplotlib.pyplot as plt\n",
    "\n",
    "#this is so it looks nice when we format it\n",
    "#from IPython.display import display\n",
    "\n",
    "#load dataset\n",
    "df = pd.read_csv('D://aviation-accident.csv')\n",
    "\n",
    "# Drop the existing index column\n",
    "df.reset_index(drop=True, inplace=True)\n",
    "\n",
    "\n",
    "df.tail()\n"
   ]
  },
  {
   "cell_type": "code",
   "execution_count": null,
   "id": "68347ea0",
   "metadata": {},
   "outputs": [],
   "source": [
    "#to get the shape of our DF (n_rows, n_columns)\n",
    "\n",
    "print(\"this is the shape of our DF (n_rows, n_columns)\",df.shape)"
   ]
  },
  {
   "cell_type": "code",
   "execution_count": null,
   "id": "cbd2e616",
   "metadata": {},
   "outputs": [],
   "source": [
    "\n",
    "#The different types of columns and the types we have are the following\n",
    "df.columns\n"
   ]
  },
  {
   "cell_type": "code",
   "execution_count": null,
   "id": "27c47cc3",
   "metadata": {},
   "outputs": [],
   "source": [
    "#in our data we have missing dates, to make it all linear we shall change all missing values to NaN\n",
    "#change unknown 'date' - date unk. to NaN\n",
    "\n",
    "replace_date = {'date': ['date unk.']}\n",
    "df.replace(replace_date, np.nan, inplace=True)\n",
    "\n",
    "#change unknown 'country' - Unknown country . to NaN\n",
    "replace_country = {'country': ['Unknown country']}\n",
    "df.replace(replace_country, np.nan, inplace = True)\n",
    "\n",
    "#display a randomm piece of data to make sure our DF still looks good\n",
    "display(df.sample())\n",
    "\n",
    "#data is all formatted and we can start work on stats in relation to our data"
   ]
  },
  {
   "cell_type": "code",
   "execution_count": null,
   "id": "969a40ae",
   "metadata": {},
   "outputs": [],
   "source": [
    "#Lets bring MATPLOTLIB\n",
    "\n",
    "#we want to get the top 10 number of accidents by plane\n",
    "top_10 = df['type'].value_counts().nlargest(10)\n",
    "\n",
    "\n",
    "top_10.plot(kind='bar')\n",
    "plt.title('Top 10 accidents by aircraft type worldwide')\n",
    "plt.xlabel('aircraft type')\n",
    "plt.ylabel('numbber of accidents')\n",
    "plt.show()"
   ]
  },
  {
   "cell_type": "code",
   "execution_count": null,
   "id": "8d6910e9",
   "metadata": {},
   "outputs": [],
   "source": [
    "# Filter the DataFrame for accidents in South Africa and making it a new df \n",
    "south_africa = df[df['country'] == 'South Africa'].copy()\n",
    "zimbabwe = df[df['country'] == 'Zimbabwe'].copy()\n",
    "\n",
    "# Group the filtered data by aircraft type and count the number of occurrences\n",
    "south_africa['type'].value_counts()\n",
    "\n",
    "\n"
   ]
  },
  {
   "cell_type": "code",
   "execution_count": null,
   "id": "bfc15756",
   "metadata": {},
   "outputs": [],
   "source": [
    "south_africa['fatalities'] = pd.to_numeric(south_africa['fatalities'], errors='coerce')\n",
    "\n",
    "#incident with highest fatalities\n",
    "print (south_africa.loc[south_africa['fatalities'].idxmax()])\n",
    "\n",
    "#average number of accidents in South Africa\n",
    "south_africa['fatalities'].mean()"
   ]
  },
  {
   "cell_type": "code",
   "execution_count": null,
   "id": "3d53a883",
   "metadata": {},
   "outputs": [],
   "source": [
    "#lets create a line plot for the frequency of crashes in South Africa\n",
    "south_africa['date'] = pd.to_datetime(south_africa['date'], format='%d-%b-%Y', errors='coerce')\n",
    "\n",
    "SA_accidents_yearly = south_africa.groupby(south_africa['date'].dt.year).size()\n",
    "\n",
    "plt.plot(SA_accidents_yearly.index,SA_accidents_yearly.values)\n",
    "plt.xlabel('Year')\n",
    "plt.ylabel('Number of accidents')\n",
    "plt.title('Plane accidents over time in South Africa')\n",
    "plt.grid(False)\n",
    "\n",
    "#make sure that the space between years in a max of 5\n",
    "custom_ticks = np.arange(min(SA_accidents_yearly.index),max(SA_accidents_yearly.index), 10)\n",
    "plt.xticks(custom_ticks)\n",
    "plt.show()"
   ]
  },
  {
   "cell_type": "code",
   "execution_count": null,
   "id": "076cbdf6",
   "metadata": {},
   "outputs": [],
   "source": [
    "#lets compare that to argentina \n",
    "\n",
    "argentina = df[df['country']=='Argentina'].copy()\n",
    "argentina['type'].value_counts()\n",
    "\n"
   ]
  },
  {
   "cell_type": "code",
   "execution_count": null,
   "id": "95833b08",
   "metadata": {},
   "outputs": [],
   "source": [
    "argentina = df[df['country']=='Argentina'].copy()\n",
    "\n",
    "#convert numeric values to str\n",
    "argentina['fatalities'] = pd.to_numeric(argentina['fatalities'], errors='coerce')\n",
    "\n",
    "#highest number of fatalities incident\n",
    "print (argentina.loc[argentina['fatalities'].idxmax()])\n",
    "\n",
    "\n",
    "argentina['fatalities'].mean()"
   ]
  },
  {
   "cell_type": "code",
   "execution_count": null,
   "id": "0189494b",
   "metadata": {},
   "outputs": [],
   "source": [
    "argentina['date'] = pd.to_datetime(argentina['date'],format= '%d-%b-%Y', errors = 'coerce')\n",
    "\n",
    "argentina_accidents = argentina.groupby(argentina['date'].dt.year).size()\n",
    "\n",
    "plt.plot(argentina_accidents.index,argentina_accidents.values)\n",
    "plt.xlabel('Year')\n",
    "plt.ylabel('Number of accidents')\n",
    "plt.title('Plane accidents over time in Argentina')\n",
    "\n",
    "#make sure that the space between years in a max of 5\n",
    "custom_ticks = np.arange(min(argentina_accidents.index),max(argentina_accidents.index), 10)\n",
    "plt.xticks(custom_ticks)\n",
    "plt.show\n",
    "\n",
    "\n",
    "\n",
    "Zim_accidents_yearly = zimbabwe.groupby(zimbabwe['date'].dt.year).size()\n",
    "\n",
    "plt.plot(Zim_accidents_yearly.index,Zim_accidents_yearly.values)\n",
    "plt.xlabel('Year')\n",
    "plt.ylabel('Number of accidents')\n",
    "plt.title('Plane accidents over time in South Africa')\n",
    "plt.grid(False)\n",
    "\n",
    "#make sure that the space between years in a max of 5\n",
    "custom_ticks = np.arange(min(Zim_accidents_yearly.index),max(Zim_accidents_yearly.index), 10)\n",
    "plt.xticks(custom_ticks)\n",
    "plt.show()"
   ]
  },
  {
   "cell_type": "code",
   "execution_count": null,
   "id": "b4224df1",
   "metadata": {
    "scrolled": false
   },
   "outputs": [],
   "source": [
    "\n",
    "#lets plot the graphs together to see the change\n",
    "plt.figure(figsize=(18, 10))\n",
    "plt.plot(argentina_accidents.index, argentina_accidents.values, label='Argentina')\n",
    "plt.plot(SA_accidents_yearly.index, SA_accidents_yearly.values, label='South Africa')\n",
    "plt.legend(fontsize='x-large')\n",
    "plt.title('Accidents in South Africa and Argentina', size = '15')\n",
    "plt.xlabel('Year', size ='15')\n",
    "plt.ylabel('Number Of Accidents', size = '15')\n",
    "plt.grid(True)\n",
    "custom_ticks = np.arange(min(argentina_accidents.index),max(argentina_accidents.index), 5)\n",
    "plt.xticks(custom_ticks)\n",
    "plt.show()\n"
   ]
  },
  {
   "cell_type": "markdown",
   "id": "8dd55b42",
   "metadata": {},
   "source": [
    "If we compare the accidents in Argentina and South Africa in the time period (1919-2023), we can see that argentina has had a higher number of overall accidents 118, compared to South Africa 78, while this may seem like a big increase, our time period is over 104 years, it means that it is an overall year-on-year increase of 0.38 accidents per year.\n"
   ]
  },
  {
   "cell_type": "markdown",
   "id": "8e8b5d1e",
   "metadata": {},
   "source": [
    "One intresting thing to note is the when we compare the accidents in South Africa and Argentina on one line plot graph, it is intresting to note, that most spikes in accidents are related (i.e - when there is a spike of accidents in South Africa,  there is also a similar spike in Accidents in South Africa)."
   ]
  },
  {
   "cell_type": "markdown",
   "id": "cb8ad4be",
   "metadata": {},
   "source": [
    "When comparing fatality mean its an intresting conclusion having drawn an earlier conclusion that most spikes in accidents are related and that while the number of acciddents differ, it does not greatly so, if we are looking at it over a 104 year spread, differing by only 40 incidents. The different means are quite broad, SA having a mean of 2.4 and Argentina having a mean of 4.6 this is quite large considering the time period.\n",
    "\n",
    "we can however draw calculated conclusions as to why that might be, one is Argentina has the Andes a high-altitude mountain range which might make flying riskier and in the event of an incident, causes rescue services to have a much harder challenge"
   ]
  },
  {
   "cell_type": "markdown",
   "id": "269d0ec6",
   "metadata": {},
   "source": [
    "Incidents worth noting are the 1986 crash in South Africa:\n",
    "\n",
    "type                Tupolev Tu-134A-3\n",
    "registration                   C9-CAA\n",
    "operator        Mozambique Government\n",
    "fatalities                       34.0\n",
    "location             near Komatipoort\n",
    "country                  South Africa\n",
    "cat                                A1\n",
    "year                             1986\n",
    "\n",
    "And \n",
    "\n",
    "The 1961 crash in Argentina:\n",
    "\n",
    "ate                      19-JUL-1961\n",
    "type                     Douglas DC-6\n",
    "registration                   LV-ADW\n",
    "operator        Aerolineas Argentinas\n",
    "fatalities                       67.0\n",
    "location               near Pardo, BA\n",
    "country                     Argentina\n",
    "cat                                A1\n",
    "year                             1961\n",
    "\n",
    "both of these having the highest casuality rates in their respective countries history.\n"
   ]
  },
  {
   "cell_type": "markdown",
   "id": "5abd60c2",
   "metadata": {},
   "source": [
    "As a futher topic of study, I would reccomend trying to find out what caused the accidents, as then we can focus on how we can further reduce these incidents"
   ]
  },
  {
   "cell_type": "code",
   "execution_count": null,
   "id": "ece58496",
   "metadata": {},
   "outputs": [],
   "source": []
  },
  {
   "cell_type": "code",
   "execution_count": null,
   "id": "27f545b9",
   "metadata": {},
   "outputs": [],
   "source": []
  }
 ],
 "metadata": {
  "kernelspec": {
   "display_name": "Python 3 (ipykernel)",
   "language": "python",
   "name": "python3"
  },
  "language_info": {
   "codemirror_mode": {
    "name": "ipython",
    "version": 3
   },
   "file_extension": ".py",
   "mimetype": "text/x-python",
   "name": "python",
   "nbconvert_exporter": "python",
   "pygments_lexer": "ipython3",
   "version": "3.11.7"
  }
 },
 "nbformat": 4,
 "nbformat_minor": 5
}
